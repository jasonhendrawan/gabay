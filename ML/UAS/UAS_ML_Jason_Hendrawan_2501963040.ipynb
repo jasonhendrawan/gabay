{
  "cells": [
    {
      "cell_type": "markdown",
      "metadata": {
        "id": "jLG97FrJfoIQ"
      },
      "source": [
        "Jason Hendrawan - 2501963040"
      ]
    },
    {
      "cell_type": "code",
      "execution_count": null,
      "metadata": {
        "colab": {
          "base_uri": "https://localhost:8080/"
        },
        "id": "XX-mg8_jeRFX",
        "outputId": "499f9bae-25ad-489a-a6f6-806a59c5f8a9"
      },
      "outputs": [
        {
          "name": "stdout",
          "output_type": "stream",
          "text": [
            "Requirement already satisfied: scikit-learn in /usr/local/lib/python3.10/dist-packages (1.3.0)\n",
            "Requirement already satisfied: numpy>=1.17.3 in /usr/local/lib/python3.10/dist-packages (from scikit-learn) (1.22.4)\n",
            "Requirement already satisfied: scipy>=1.5.0 in /usr/local/lib/python3.10/dist-packages (from scikit-learn) (1.10.1)\n",
            "Requirement already satisfied: joblib>=1.1.1 in /usr/local/lib/python3.10/dist-packages (from scikit-learn) (1.2.0)\n",
            "Requirement already satisfied: threadpoolctl>=2.0.0 in /usr/local/lib/python3.10/dist-packages (from scikit-learn) (3.1.0)\n"
          ]
        }
      ],
      "source": [
        "!pip install -U scikit-learn"
      ]
    },
    {
      "cell_type": "code",
      "execution_count": null,
      "metadata": {
        "id": "K_z5iXMZfl_Y"
      },
      "outputs": [],
      "source": [
        "import pandas as pd"
      ]
    },
    {
      "cell_type": "code",
      "execution_count": null,
      "metadata": {
        "id": "7EMKEGVofrLw"
      },
      "outputs": [],
      "source": [
        "df = pd.read_csv('/content/Dataset_Classification.csv')"
      ]
    },
    {
      "cell_type": "code",
      "execution_count": null,
      "metadata": {
        "colab": {
          "base_uri": "https://localhost:8080/",
          "height": 300
        },
        "id": "ksmvxFmZgtCQ",
        "outputId": "19255d59-c7b0-4013-ce49-9788d6d656c7"
      },
      "outputs": [
        {
          "data": {
            "text/html": [
              "\n",
              "\n",
              "  <div id=\"df-63005483-19f7-476c-b8cc-0a54fb158a04\">\n",
              "    <div class=\"colab-df-container\">\n",
              "      <div>\n",
              "<style scoped>\n",
              "    .dataframe tbody tr th:only-of-type {\n",
              "        vertical-align: middle;\n",
              "    }\n",
              "\n",
              "    .dataframe tbody tr th {\n",
              "        vertical-align: top;\n",
              "    }\n",
              "\n",
              "    .dataframe thead th {\n",
              "        text-align: right;\n",
              "    }\n",
              "</style>\n",
              "<table border=\"1\" class=\"dataframe\">\n",
              "  <thead>\n",
              "    <tr style=\"text-align: right;\">\n",
              "      <th></th>\n",
              "      <th>x1</th>\n",
              "      <th>x2</th>\n",
              "      <th>x3</th>\n",
              "      <th>x4</th>\n",
              "      <th>x5</th>\n",
              "      <th>x6</th>\n",
              "      <th>x7</th>\n",
              "      <th>x8</th>\n",
              "      <th>x9</th>\n",
              "      <th>x10</th>\n",
              "      <th>...</th>\n",
              "      <th>x248</th>\n",
              "      <th>x249</th>\n",
              "      <th>x250</th>\n",
              "      <th>x251</th>\n",
              "      <th>x252</th>\n",
              "      <th>x253</th>\n",
              "      <th>x254</th>\n",
              "      <th>x255</th>\n",
              "      <th>x256</th>\n",
              "      <th>label</th>\n",
              "    </tr>\n",
              "  </thead>\n",
              "  <tbody>\n",
              "    <tr>\n",
              "      <th>0</th>\n",
              "      <td>-1.032690</td>\n",
              "      <td>2.096221</td>\n",
              "      <td>0.384194</td>\n",
              "      <td>-1.214555</td>\n",
              "      <td>2.432575</td>\n",
              "      <td>1.069743</td>\n",
              "      <td>-1.076878</td>\n",
              "      <td>2.140959</td>\n",
              "      <td>0.403971</td>\n",
              "      <td>-1.039528</td>\n",
              "      <td>...</td>\n",
              "      <td>2.423807</td>\n",
              "      <td>0.833363</td>\n",
              "      <td>-0.932956</td>\n",
              "      <td>2.047133</td>\n",
              "      <td>0.089361</td>\n",
              "      <td>-1.062281</td>\n",
              "      <td>2.080691</td>\n",
              "      <td>0.412019</td>\n",
              "      <td>-1.244573</td>\n",
              "      <td>3</td>\n",
              "    </tr>\n",
              "    <tr>\n",
              "      <th>1</th>\n",
              "      <td>-0.509585</td>\n",
              "      <td>-0.896533</td>\n",
              "      <td>-0.465612</td>\n",
              "      <td>0.033544</td>\n",
              "      <td>-0.781463</td>\n",
              "      <td>-0.934908</td>\n",
              "      <td>0.061976</td>\n",
              "      <td>-0.712155</td>\n",
              "      <td>-0.929289</td>\n",
              "      <td>-0.624238</td>\n",
              "      <td>...</td>\n",
              "      <td>-0.783508</td>\n",
              "      <td>-0.877666</td>\n",
              "      <td>0.084089</td>\n",
              "      <td>-0.718668</td>\n",
              "      <td>-0.965767</td>\n",
              "      <td>-0.567989</td>\n",
              "      <td>-0.911335</td>\n",
              "      <td>-0.415529</td>\n",
              "      <td>0.167377</td>\n",
              "      <td>3</td>\n",
              "    </tr>\n",
              "    <tr>\n",
              "      <th>2</th>\n",
              "      <td>-1.032690</td>\n",
              "      <td>-0.896533</td>\n",
              "      <td>1.243594</td>\n",
              "      <td>-1.101241</td>\n",
              "      <td>-0.781463</td>\n",
              "      <td>-0.934908</td>\n",
              "      <td>-0.355857</td>\n",
              "      <td>-0.020836</td>\n",
              "      <td>-0.726172</td>\n",
              "      <td>-1.039528</td>\n",
              "      <td>...</td>\n",
              "      <td>-0.783508</td>\n",
              "      <td>-0.851601</td>\n",
              "      <td>-0.481456</td>\n",
              "      <td>0.041508</td>\n",
              "      <td>-0.623651</td>\n",
              "      <td>-1.062281</td>\n",
              "      <td>-0.911335</td>\n",
              "      <td>1.288949</td>\n",
              "      <td>-1.201469</td>\n",
              "      <td>0</td>\n",
              "    </tr>\n",
              "    <tr>\n",
              "      <th>3</th>\n",
              "      <td>-1.024914</td>\n",
              "      <td>1.367049</td>\n",
              "      <td>0.014966</td>\n",
              "      <td>-1.141605</td>\n",
              "      <td>1.102526</td>\n",
              "      <td>0.197138</td>\n",
              "      <td>-0.921322</td>\n",
              "      <td>1.064377</td>\n",
              "      <td>0.235659</td>\n",
              "      <td>-0.973558</td>\n",
              "      <td>...</td>\n",
              "      <td>1.228601</td>\n",
              "      <td>0.089344</td>\n",
              "      <td>-0.932956</td>\n",
              "      <td>1.093751</td>\n",
              "      <td>0.017282</td>\n",
              "      <td>-0.920086</td>\n",
              "      <td>1.336901</td>\n",
              "      <td>0.012367</td>\n",
              "      <td>-0.990998</td>\n",
              "      <td>3</td>\n",
              "    </tr>\n",
              "    <tr>\n",
              "      <th>4</th>\n",
              "      <td>1.585219</td>\n",
              "      <td>-0.896533</td>\n",
              "      <td>-0.782318</td>\n",
              "      <td>0.692780</td>\n",
              "      <td>-0.781463</td>\n",
              "      <td>0.732274</td>\n",
              "      <td>-0.113010</td>\n",
              "      <td>-1.048795</td>\n",
              "      <td>1.248580</td>\n",
              "      <td>1.636419</td>\n",
              "      <td>...</td>\n",
              "      <td>-0.783508</td>\n",
              "      <td>0.902548</td>\n",
              "      <td>0.000080</td>\n",
              "      <td>-1.049062</td>\n",
              "      <td>1.518648</td>\n",
              "      <td>1.607938</td>\n",
              "      <td>-0.911335</td>\n",
              "      <td>-0.824106</td>\n",
              "      <td>0.663292</td>\n",
              "      <td>0</td>\n",
              "    </tr>\n",
              "  </tbody>\n",
              "</table>\n",
              "<p>5 rows × 257 columns</p>\n",
              "</div>\n",
              "      <button class=\"colab-df-convert\" onclick=\"convertToInteractive('df-63005483-19f7-476c-b8cc-0a54fb158a04')\"\n",
              "              title=\"Convert this dataframe to an interactive table.\"\n",
              "              style=\"display:none;\">\n",
              "\n",
              "  <svg xmlns=\"http://www.w3.org/2000/svg\" height=\"24px\"viewBox=\"0 0 24 24\"\n",
              "       width=\"24px\">\n",
              "    <path d=\"M0 0h24v24H0V0z\" fill=\"none\"/>\n",
              "    <path d=\"M18.56 5.44l.94 2.06.94-2.06 2.06-.94-2.06-.94-.94-2.06-.94 2.06-2.06.94zm-11 1L8.5 8.5l.94-2.06 2.06-.94-2.06-.94L8.5 2.5l-.94 2.06-2.06.94zm10 10l.94 2.06.94-2.06 2.06-.94-2.06-.94-.94-2.06-.94 2.06-2.06.94z\"/><path d=\"M17.41 7.96l-1.37-1.37c-.4-.4-.92-.59-1.43-.59-.52 0-1.04.2-1.43.59L10.3 9.45l-7.72 7.72c-.78.78-.78 2.05 0 2.83L4 21.41c.39.39.9.59 1.41.59.51 0 1.02-.2 1.41-.59l7.78-7.78 2.81-2.81c.8-.78.8-2.07 0-2.86zM5.41 20L4 18.59l7.72-7.72 1.47 1.35L5.41 20z\"/>\n",
              "  </svg>\n",
              "      </button>\n",
              "\n",
              "\n",
              "\n",
              "    <div id=\"df-f0bdb177-9cc9-4cd1-91dd-1b642729d718\">\n",
              "      <button class=\"colab-df-quickchart\" onclick=\"quickchart('df-f0bdb177-9cc9-4cd1-91dd-1b642729d718')\"\n",
              "              title=\"Suggest charts.\"\n",
              "              style=\"display:none;\">\n",
              "\n",
              "<svg xmlns=\"http://www.w3.org/2000/svg\" height=\"24px\"viewBox=\"0 0 24 24\"\n",
              "     width=\"24px\">\n",
              "    <g>\n",
              "        <path d=\"M19 3H5c-1.1 0-2 .9-2 2v14c0 1.1.9 2 2 2h14c1.1 0 2-.9 2-2V5c0-1.1-.9-2-2-2zM9 17H7v-7h2v7zm4 0h-2V7h2v10zm4 0h-2v-4h2v4z\"/>\n",
              "    </g>\n",
              "</svg>\n",
              "      </button>\n",
              "    </div>\n",
              "\n",
              "<style>\n",
              "  .colab-df-quickchart {\n",
              "    background-color: #E8F0FE;\n",
              "    border: none;\n",
              "    border-radius: 50%;\n",
              "    cursor: pointer;\n",
              "    display: none;\n",
              "    fill: #1967D2;\n",
              "    height: 32px;\n",
              "    padding: 0 0 0 0;\n",
              "    width: 32px;\n",
              "  }\n",
              "\n",
              "  .colab-df-quickchart:hover {\n",
              "    background-color: #E2EBFA;\n",
              "    box-shadow: 0px 1px 2px rgba(60, 64, 67, 0.3), 0px 1px 3px 1px rgba(60, 64, 67, 0.15);\n",
              "    fill: #174EA6;\n",
              "  }\n",
              "\n",
              "  [theme=dark] .colab-df-quickchart {\n",
              "    background-color: #3B4455;\n",
              "    fill: #D2E3FC;\n",
              "  }\n",
              "\n",
              "  [theme=dark] .colab-df-quickchart:hover {\n",
              "    background-color: #434B5C;\n",
              "    box-shadow: 0px 1px 3px 1px rgba(0, 0, 0, 0.15);\n",
              "    filter: drop-shadow(0px 1px 2px rgba(0, 0, 0, 0.3));\n",
              "    fill: #FFFFFF;\n",
              "  }\n",
              "</style>\n",
              "\n",
              "    <script>\n",
              "      async function quickchart(key) {\n",
              "        const containerElement = document.querySelector('#' + key);\n",
              "        const charts = await google.colab.kernel.invokeFunction(\n",
              "            'suggestCharts', [key], {});\n",
              "      }\n",
              "    </script>\n",
              "\n",
              "      <script>\n",
              "\n",
              "function displayQuickchartButton(domScope) {\n",
              "  let quickchartButtonEl =\n",
              "    domScope.querySelector('#df-f0bdb177-9cc9-4cd1-91dd-1b642729d718 button.colab-df-quickchart');\n",
              "  quickchartButtonEl.style.display =\n",
              "    google.colab.kernel.accessAllowed ? 'block' : 'none';\n",
              "}\n",
              "\n",
              "        displayQuickchartButton(document);\n",
              "      </script>\n",
              "      <style>\n",
              "    .colab-df-container {\n",
              "      display:flex;\n",
              "      flex-wrap:wrap;\n",
              "      gap: 12px;\n",
              "    }\n",
              "\n",
              "    .colab-df-convert {\n",
              "      background-color: #E8F0FE;\n",
              "      border: none;\n",
              "      border-radius: 50%;\n",
              "      cursor: pointer;\n",
              "      display: none;\n",
              "      fill: #1967D2;\n",
              "      height: 32px;\n",
              "      padding: 0 0 0 0;\n",
              "      width: 32px;\n",
              "    }\n",
              "\n",
              "    .colab-df-convert:hover {\n",
              "      background-color: #E2EBFA;\n",
              "      box-shadow: 0px 1px 2px rgba(60, 64, 67, 0.3), 0px 1px 3px 1px rgba(60, 64, 67, 0.15);\n",
              "      fill: #174EA6;\n",
              "    }\n",
              "\n",
              "    [theme=dark] .colab-df-convert {\n",
              "      background-color: #3B4455;\n",
              "      fill: #D2E3FC;\n",
              "    }\n",
              "\n",
              "    [theme=dark] .colab-df-convert:hover {\n",
              "      background-color: #434B5C;\n",
              "      box-shadow: 0px 1px 3px 1px rgba(0, 0, 0, 0.15);\n",
              "      filter: drop-shadow(0px 1px 2px rgba(0, 0, 0, 0.3));\n",
              "      fill: #FFFFFF;\n",
              "    }\n",
              "  </style>\n",
              "\n",
              "      <script>\n",
              "        const buttonEl =\n",
              "          document.querySelector('#df-63005483-19f7-476c-b8cc-0a54fb158a04 button.colab-df-convert');\n",
              "        buttonEl.style.display =\n",
              "          google.colab.kernel.accessAllowed ? 'block' : 'none';\n",
              "\n",
              "        async function convertToInteractive(key) {\n",
              "          const element = document.querySelector('#df-63005483-19f7-476c-b8cc-0a54fb158a04');\n",
              "          const dataTable =\n",
              "            await google.colab.kernel.invokeFunction('convertToInteractive',\n",
              "                                                     [key], {});\n",
              "          if (!dataTable) return;\n",
              "\n",
              "          const docLinkHtml = 'Like what you see? Visit the ' +\n",
              "            '<a target=\"_blank\" href=https://colab.research.google.com/notebooks/data_table.ipynb>data table notebook</a>'\n",
              "            + ' to learn more about interactive tables.';\n",
              "          element.innerHTML = '';\n",
              "          dataTable['output_type'] = 'display_data';\n",
              "          await google.colab.output.renderOutput(dataTable, element);\n",
              "          const docLink = document.createElement('div');\n",
              "          docLink.innerHTML = docLinkHtml;\n",
              "          element.appendChild(docLink);\n",
              "        }\n",
              "      </script>\n",
              "    </div>\n",
              "  </div>\n"
            ],
            "text/plain": [
              "         x1        x2        x3        x4        x5        x6        x7  \\\n",
              "0 -1.032690  2.096221  0.384194 -1.214555  2.432575  1.069743 -1.076878   \n",
              "1 -0.509585 -0.896533 -0.465612  0.033544 -0.781463 -0.934908  0.061976   \n",
              "2 -1.032690 -0.896533  1.243594 -1.101241 -0.781463 -0.934908 -0.355857   \n",
              "3 -1.024914  1.367049  0.014966 -1.141605  1.102526  0.197138 -0.921322   \n",
              "4  1.585219 -0.896533 -0.782318  0.692780 -0.781463  0.732274 -0.113010   \n",
              "\n",
              "         x8        x9       x10  ...      x248      x249      x250      x251  \\\n",
              "0  2.140959  0.403971 -1.039528  ...  2.423807  0.833363 -0.932956  2.047133   \n",
              "1 -0.712155 -0.929289 -0.624238  ... -0.783508 -0.877666  0.084089 -0.718668   \n",
              "2 -0.020836 -0.726172 -1.039528  ... -0.783508 -0.851601 -0.481456  0.041508   \n",
              "3  1.064377  0.235659 -0.973558  ...  1.228601  0.089344 -0.932956  1.093751   \n",
              "4 -1.048795  1.248580  1.636419  ... -0.783508  0.902548  0.000080 -1.049062   \n",
              "\n",
              "       x252      x253      x254      x255      x256  label  \n",
              "0  0.089361 -1.062281  2.080691  0.412019 -1.244573      3  \n",
              "1 -0.965767 -0.567989 -0.911335 -0.415529  0.167377      3  \n",
              "2 -0.623651 -1.062281 -0.911335  1.288949 -1.201469      0  \n",
              "3  0.017282 -0.920086  1.336901  0.012367 -0.990998      3  \n",
              "4  1.518648  1.607938 -0.911335 -0.824106  0.663292      0  \n",
              "\n",
              "[5 rows x 257 columns]"
            ]
          },
          "execution_count": 4,
          "metadata": {},
          "output_type": "execute_result"
        }
      ],
      "source": [
        "df.head()"
      ]
    },
    {
      "cell_type": "code",
      "execution_count": null,
      "metadata": {
        "colab": {
          "background_save": true
        },
        "id": "Y0kuezWqKPRJ"
      },
      "outputs": [],
      "source": [
        "\n",
        "\n",
        "import matplotlib.pyplot as plt\n",
        "import seaborn as sns\n",
        "\n",
        "corr = df.corr()\n",
        "\n",
        "plt.figure(figsize=(20, 20))\n",
        "sns.heatmap(corr, annot= True, cmap = 'coolwarm' )\n",
        "plt.show()"
      ]
    },
    {
      "cell_type": "markdown",
      "metadata": {
        "id": "KG4YQDQ0gNoQ"
      },
      "source": [
        "# a. EDA"
      ]
    },
    {
      "cell_type": "code",
      "execution_count": null,
      "metadata": {
        "colab": {
          "base_uri": "https://localhost:8080/"
        },
        "id": "8Ma6HoVVgNLp",
        "outputId": "206a7f89-a4b9-4652-a041-d9b895d0808f"
      },
      "outputs": [
        {
          "data": {
            "text/plain": [
              "x1       float64\n",
              "x2       float64\n",
              "x3       float64\n",
              "x4       float64\n",
              "x5       float64\n",
              "          ...   \n",
              "x253     float64\n",
              "x254     float64\n",
              "x255     float64\n",
              "x256     float64\n",
              "label      int64\n",
              "Length: 257, dtype: object"
            ]
          },
          "execution_count": 5,
          "metadata": {},
          "output_type": "execute_result"
        }
      ],
      "source": [
        "df.dtypes"
      ]
    },
    {
      "cell_type": "markdown",
      "metadata": {
        "id": "T2R6dTajiaA-"
      },
      "source": [
        "hasil dari df.dtypes diatas adalah bentuk data dari data csv nya jadi untuk x1-x256 itu berbentuk float dan label berbentuk integer"
      ]
    },
    {
      "cell_type": "code",
      "execution_count": null,
      "metadata": {
        "colab": {
          "base_uri": "https://localhost:8080/"
        },
        "id": "yOIra1xngVcR",
        "outputId": "45e7c5cf-c536-44bd-d18d-c87826730045"
      },
      "outputs": [
        {
          "name": "stdout",
          "output_type": "stream",
          "text": [
            "<class 'pandas.core.frame.DataFrame'>\n",
            "RangeIndex: 3264 entries, 0 to 3263\n",
            "Columns: 257 entries, x1 to label\n",
            "dtypes: float64(256), int64(1)\n",
            "memory usage: 6.4 MB\n"
          ]
        }
      ],
      "source": [
        "df.info()"
      ]
    },
    {
      "cell_type": "markdown",
      "metadata": {
        "id": "W2m3kHpCim72"
      },
      "source": [
        "untuk df.info ini menjelaskanbahwa ada 257 column dari x1 sampai ke label, ada 256 data float dan 1 integer, dan ada total 3264 row"
      ]
    },
    {
      "cell_type": "code",
      "execution_count": null,
      "metadata": {
        "colab": {
          "base_uri": "https://localhost:8080/"
        },
        "id": "WBFUFsUYhWA_",
        "outputId": "16d70247-1380-492a-cbfe-1c51e30ccd17"
      },
      "outputs": [
        {
          "data": {
            "text/plain": [
              "x1       0\n",
              "x2       0\n",
              "x3       0\n",
              "x4       0\n",
              "x5       0\n",
              "        ..\n",
              "x253     0\n",
              "x254     0\n",
              "x255     0\n",
              "x256     0\n",
              "label    0\n",
              "Length: 257, dtype: int64"
            ]
          },
          "execution_count": 7,
          "metadata": {},
          "output_type": "execute_result"
        }
      ],
      "source": [
        "df.isna().sum()"
      ]
    },
    {
      "cell_type": "markdown",
      "metadata": {
        "id": "ur2vRb0sixGp"
      },
      "source": [
        "df.isna().sum() itu berguna untuk mencari jumlah NaN data pada tiap column di data ini, dari x1-label memiliki hasil 0, yang berarti tidak ada data NaN pada data ini"
      ]
    },
    {
      "cell_type": "markdown",
      "metadata": {
        "id": "98edI-OajASW"
      },
      "source": [
        "# b. praproses"
      ]
    },
    {
      "cell_type": "code",
      "execution_count": null,
      "metadata": {
        "id": "_5RI-aagjFVG"
      },
      "outputs": [],
      "source": [
        "X = df.drop(columns=['label'], axis = 1)\n",
        "y = df['label']\n",
        "\n",
        "df.dropna(axis = 1, inplace = True)"
      ]
    },
    {
      "cell_type": "code",
      "execution_count": null,
      "metadata": {
        "colab": {
          "base_uri": "https://localhost:8080/"
        },
        "id": "b7ObHfbAi-L_",
        "outputId": "2bae8a19-ba79-46c8-bbb3-ae59f3464091"
      },
      "outputs": [
        {
          "data": {
            "text/plain": [
              "array([[-1.00610712,  1.88059418,  0.39499165, ...,  1.89305181,\n",
              "         0.44488926, -1.18293629],\n",
              "       [-0.43670779, -0.95217097, -0.50864155, ..., -0.93985297,\n",
              "        -0.4363631 ,  0.18437406],\n",
              "       [-1.00610712, -0.95217097,  1.30882672, ..., -0.93985297,\n",
              "         1.37872892, -1.14119447],\n",
              "       ...,\n",
              "       [-0.76155071,  0.84353978,  1.15908573, ...,  0.84038672,\n",
              "         1.07603927, -0.83681362],\n",
              "       [ 1.7685804 , -0.95217097, -1.38092082, ..., -0.93985297,\n",
              "        -1.34149895,  0.52987896],\n",
              "       [-0.1982883 ,  0.51148773, -0.22580351, ...,  0.50176234,\n",
              "        -0.28914506,  0.65634939]])"
            ]
          },
          "execution_count": 20,
          "metadata": {},
          "output_type": "execute_result"
        }
      ],
      "source": [
        "from sklearn.preprocessing import StandardScaler\n",
        "\n",
        "\n",
        "scaler = StandardScaler()\n",
        "X = scaler.fit_transform(X)\n",
        "X"
      ]
    },
    {
      "cell_type": "markdown",
      "metadata": {
        "id": "ct3bRSuO9be4"
      },
      "source": [
        "pertama saya buat variabel X dan y yang berisi y itu label dan x sisanya, kemudian dalam praproses saya drop semua NaN, walaupun tidak ada data NaN yang terdeteksi sebelumnya tapi saya tetap masukan aja untuk memastikan tidak ada NaN yang dapat merusak.\n",
        "\n",
        "kemudian saya melakukan standarisasi dengan standard scaler, hal ini saya lakukan agar distribusinya terpusat pada 0 dan standar deviasinya 1, namun standarisasi ini kurang baik jika bukan gaussian distribution."
      ]
    },
    {
      "cell_type": "markdown",
      "metadata": {
        "id": "MMfMLHgTlSF8"
      },
      "source": [
        "# C. 2 metode machine learning klasifikasi"
      ]
    },
    {
      "cell_type": "code",
      "execution_count": null,
      "metadata": {
        "id": "CIZ5V-KBk9AN"
      },
      "outputs": [],
      "source": [
        "from sklearn.model_selection import train_test_split\n",
        "\n",
        "X_train, X_test, y_train, y_test = train_test_split(X, y, test_size=0.3, random_state=42)"
      ]
    },
    {
      "cell_type": "code",
      "execution_count": null,
      "metadata": {
        "id": "ja_yigd68p5S"
      },
      "outputs": [],
      "source": [
        "from sklearn.metrics import classification_report"
      ]
    },
    {
      "cell_type": "markdown",
      "metadata": {
        "id": "--E7U7HsxAR_"
      },
      "source": [
        "model 1: KNN"
      ]
    },
    {
      "cell_type": "code",
      "execution_count": null,
      "metadata": {
        "id": "I3GBafo2mBmM"
      },
      "outputs": [],
      "source": [
        "from sklearn.neighbors import KNeighborsClassifier\n",
        "neigh = KNeighborsClassifier(n_neighbors=5)\n",
        "neigh.fit(X_train, y_train)\n",
        "\n",
        "y_pred_knn = neigh.predict(X_test)\n"
      ]
    },
    {
      "cell_type": "markdown",
      "metadata": {
        "id": "ZafnxeaV8jxY"
      },
      "source": [
        "model 2: Random Forest"
      ]
    },
    {
      "cell_type": "code",
      "execution_count": null,
      "metadata": {
        "id": "mmSiEAdl1_AV"
      },
      "outputs": [],
      "source": [
        "from sklearn.ensemble import RandomForestClassifier\n",
        "rfc = RandomForestClassifier(n_estimators=10)\n",
        "\n",
        "rfc.fit(X_train, y_train)\n",
        "y_pred_rfc = rfc.predict(X_test)\n"
      ]
    },
    {
      "cell_type": "markdown",
      "metadata": {
        "id": "sUv3hRJN8vrg"
      },
      "source": [
        "saya memilih kedua model ini karena nearest neighbor dan random forest bekerja baik dan memberikan accuracy terbesar diantara model\" lain yang saya coba seperti adaboost, svm, logistic regression, dll.\n",
        "\n",
        "KNN ada classifier yang konsisten dengan distribusiapapun, jadi jika diberikan banyak training, knn tetap memberikan hasil optimal\n",
        "\n",
        "random tree juga saya pilih baik dalam menangani overfitting"
      ]
    },
    {
      "cell_type": "markdown",
      "metadata": {
        "id": "tHPAjs4m0GAt"
      },
      "source": [
        "#d. Metric evaluation"
      ]
    },
    {
      "cell_type": "code",
      "execution_count": null,
      "metadata": {
        "id": "FBZyX40w0Etd"
      },
      "outputs": [],
      "source": [
        "from sklearn.metrics import accuracy_score, f1_score, recall_score, precision_score, classification_report"
      ]
    },
    {
      "cell_type": "code",
      "execution_count": null,
      "metadata": {
        "colab": {
          "base_uri": "https://localhost:8080/"
        },
        "id": "AMoiC-p60f--",
        "outputId": "05c624de-176b-42d8-d10d-3fe00cb03e5d"
      },
      "outputs": [
        {
          "name": "stdout",
          "output_type": "stream",
          "text": [
            "0.7010204081632653\n",
            "0.6981352665835703\n",
            "0.7010204081632653\n",
            "0.6971650891858007\n",
            "              precision    recall  f1-score   support\n",
            "\n",
            "           0       0.65      0.65      0.65       270\n",
            "           1       0.68      0.62      0.65       295\n",
            "           2       0.62      0.60      0.61       139\n",
            "           3       0.81      0.89      0.84       276\n",
            "\n",
            "    accuracy                           0.70       980\n",
            "   macro avg       0.69      0.69      0.69       980\n",
            "weighted avg       0.70      0.70      0.70       980\n",
            "\n"
          ]
        }
      ],
      "source": [
        "print(accuracy_score(y_test, y_pred_knn))\n",
        "print(f1_score(y_test, y_pred_knn, average = 'weighted'))\n",
        "print(recall_score(y_test, y_pred_knn, average = 'weighted'))\n",
        "print(precision_score(y_test, y_pred_knn, average = 'weighted'))\n",
        "\n",
        "print(classification_report(y_test, y_pred_knn))"
      ]
    },
    {
      "cell_type": "code",
      "execution_count": null,
      "metadata": {
        "colab": {
          "base_uri": "https://localhost:8080/"
        },
        "id": "AiUZXAdYDE3V",
        "outputId": "eba8e08d-948b-4d36-c447-3efc97d09f5d"
      },
      "outputs": [
        {
          "name": "stdout",
          "output_type": "stream",
          "text": [
            "0.7459183673469387\n",
            "0.7450818385891587\n",
            "0.7459183673469387\n",
            "0.7445937289651047\n",
            "              precision    recall  f1-score   support\n",
            "\n",
            "           0       0.71      0.70      0.71       270\n",
            "           1       0.70      0.69      0.70       295\n",
            "           2       0.75      0.73      0.74       139\n",
            "           3       0.82      0.86      0.84       276\n",
            "\n",
            "    accuracy                           0.75       980\n",
            "   macro avg       0.75      0.74      0.74       980\n",
            "weighted avg       0.74      0.75      0.75       980\n",
            "\n"
          ]
        }
      ],
      "source": [
        "\n",
        "print(accuracy_score(y_test, y_pred_rfc))\n",
        "print(f1_score(y_test, y_pred_rfc, average = 'weighted'))\n",
        "print(recall_score(y_test, y_pred_rfc, average = 'weighted'))\n",
        "print(precision_score(y_test, y_pred_rfc, average = 'weighted'))\n",
        "\n",
        "print(classification_report(y_test, y_pred_rfc))"
      ]
    },
    {
      "cell_type": "markdown",
      "metadata": {
        "id": "99wrj9jID9LU"
      },
      "source": [
        "dari kedua model saya dapatkan hasil yang cukup mirip dengan perbedaan sebesar 0.03 - 0.05 pada akurasi, f1 score, recall, precision. tetapi dalam setiap percobaan Random forest selalu menghasilkan akurasi tertinggi sehingga menurut saya random forest adalah model terbaik untuk kasus ini."
      ]
    }
  ],
  "metadata": {
    "colab": {
      "provenance": []
    },
    "kernelspec": {
      "display_name": "Python 3",
      "name": "python3"
    },
    "language_info": {
      "name": "python"
    }
  },
  "nbformat": 4,
  "nbformat_minor": 0
}