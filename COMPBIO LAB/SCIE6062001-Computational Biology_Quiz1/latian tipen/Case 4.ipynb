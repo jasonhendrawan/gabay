{
 "cells": [
  {
   "cell_type": "code",
   "execution_count": 2,
   "metadata": {},
   "outputs": [
    {
     "name": "stderr",
     "output_type": "stream",
     "text": [
      "c:\\Users\\Stefan\\AppData\\Local\\Programs\\Python\\Python311\\Lib\\site-packages\\Bio\\pairwise2.py:278: BiopythonDeprecationWarning: Bio.pairwise2 has been deprecated, and we intend to remove it in a future release of Biopython. As an alternative, please consider using Bio.Align.PairwiseAligner as a replacement, and contact the Biopython developers if you still need the Bio.pairwise2 module.\n",
      "  warnings.warn(\n"
     ]
    }
   ],
   "source": [
    "from Bio.Seq import Seq\n",
    "from Bio import pairwise2\n",
    "from Bio.pairwise2 import format_alignment\n",
    "from collections import Counter\n",
    "from Levenshtein import distance"
   ]
  },
  {
   "cell_type": "code",
   "execution_count": 4,
   "metadata": {},
   "outputs": [],
   "source": [
    "SeqA = Seq(\"AAGCTTAGCTAGAGCAGTCAGCTAGCTAGCT\")\n",
    "SeqB = Seq(\"TCTGAAGCTAGCTAGTGCATAGCTAGCTAGC\")"
   ]
  },
  {
   "cell_type": "code",
   "execution_count": 8,
   "metadata": {},
   "outputs": [],
   "source": [
    "# Global and Local Alignment\n",
    "global_align = pairwise2.align.globalxx(SeqA, SeqB)\n",
    "local_align = pairwise2.align.localxx(SeqA, SeqB)\n"
   ]
  },
  {
   "cell_type": "code",
   "execution_count": 9,
   "metadata": {},
   "outputs": [
    {
     "name": "stdout",
     "output_type": "stream",
     "text": [
      "1 AAGCTTAGCTAGA-GCAGTCAGCTAGCTAGC\n",
      "  |||| |||||||  ||| | |||||||||||\n",
      "5 AAGC-TAGCTAG-TGCA-T-AGCTAGCTAGC\n",
      "  Score=26\n",
      "\n",
      "1 AAGCTTAGCTAGA-GCAGTCAGCTAGCTAGC\n",
      "  ||||| ||||||  ||| | |||||||||||\n",
      "5 AAGCT-AGCTAG-TGCA-T-AGCTAGCTAGC\n",
      "  Score=26\n",
      "\n",
      "1 AAGCTTAGCTAGAGCAGTCAGCTAGCTAGC\n",
      "  |||| |||||||.||| | |||||||||||\n",
      "5 AAGC-TAGCTAGTGCA-T-AGCTAGCTAGC\n",
      "  Score=26\n",
      "\n",
      "1 AAGCTTAGCTAGAGCAGTCAGCTAGCTAGC\n",
      "  ||||| ||||||.||| | |||||||||||\n",
      "5 AAGCT-AGCTAGTGCA-T-AGCTAGCTAGC\n",
      "  Score=26\n",
      "\n"
     ]
    }
   ],
   "source": [
    "align = format_alignment(*local_align[0])\n",
    "global_align = format_alignment(*local_align[0])\n",
    "\n",
    "for a in local_align:\n",
    "    print(format_alignment(*a))"
   ]
  },
  {
   "cell_type": "code",
   "execution_count": 10,
   "metadata": {},
   "outputs": [
    {
     "name": "stdout",
     "output_type": "stream",
     "text": [
      "----AAGCTTAGCTAGA-GCAGTCAGCTAGCTAGCT\n",
      "    |||| |||||||  ||| | ||||||||||| \n",
      "TCTGAAGC-TAGCTAG-TGCA-T-AGCTAGCTAGC-\n",
      "  Score=48.2\n",
      "\n",
      "----AAGCTTAGCTAGA-GCAGTCAGCTAGCTAGCT\n",
      "    ||||| ||||||  ||| | ||||||||||| \n",
      "TCTGAAGCT-AGCTAG-TGCA-T-AGCTAGCTAGC-\n",
      "  Score=48.2\n",
      "\n",
      "----AAGCTTAGCTAGAGCAGTCAGCTAGCTAGCT\n",
      "    |||| |||||||.||| | ||||||||||| \n",
      "TCTGAAGC-TAGCTAGTGCA-T-AGCTAGCTAGC-\n",
      "  Score=48.2\n",
      "\n",
      "----AAGCTTAGCTAGAGCAGTCAGCTAGCTAGCT\n",
      "    ||||| ||||||.||| | ||||||||||| \n",
      "TCTGAAGCT-AGCTAGTGCA-T-AGCTAGCTAGC-\n",
      "  Score=48.2\n",
      "\n"
     ]
    }
   ],
   "source": [
    "# Global Matching Score\n",
    "score = pairwise2.align.globalms(SeqA, SeqB, 2, -1, -0.5, -0.1)\n",
    "score\n",
    "for s in score:\n",
    "    print(format_alignment(*s))"
   ]
  },
  {
   "cell_type": "code",
   "execution_count": 11,
   "metadata": {},
   "outputs": [
    {
     "data": {
      "text/plain": [
       "30"
      ]
     },
     "execution_count": 11,
     "metadata": {},
     "output_type": "execute_result"
    }
   ],
   "source": [
    "# Hamming Distance\n",
    "def hamming_lc(seq1, seq2):\n",
    "  return len([(x,y) for (x,y) in zip(seq1, seq2) if x!=y])\n",
    "\n",
    "hamming_lc(SeqA, SeqB)"
   ]
  },
  {
   "cell_type": "code",
   "execution_count": 12,
   "metadata": {},
   "outputs": [
    {
     "data": {
      "text/plain": [
       "9"
      ]
     },
     "execution_count": 12,
     "metadata": {},
     "output_type": "execute_result"
    }
   ],
   "source": [
    "distance(SeqA, SeqB)"
   ]
  },
  {
   "cell_type": "code",
   "execution_count": 14,
   "metadata": {},
   "outputs": [
    {
     "name": "stdout",
     "output_type": "stream",
     "text": [
      "[[False, False, False, False, True, True, False, False, False, True, False, False, False, True, False, False, False, False, True, False, True, False, False, False, True, False, False, False, True, False, False], [False, False, False, False, True, True, False, False, False, True, False, False, False, True, False, False, False, False, True, False, True, False, False, False, True, False, False, False, True, False, False], [False, False, False, True, False, False, True, False, False, False, True, False, False, False, True, False, True, False, False, False, False, True, False, False, False, True, False, False, False, True, False], [False, True, False, False, False, False, False, True, False, False, False, True, False, False, False, False, False, True, False, False, False, False, True, False, False, False, True, False, False, False, True], [True, False, True, False, False, False, False, False, True, False, False, False, True, False, False, True, False, False, False, True, False, False, False, True, False, False, False, True, False, False, False], [True, False, True, False, False, False, False, False, True, False, False, False, True, False, False, True, False, False, False, True, False, False, False, True, False, False, False, True, False, False, False], [False, False, False, False, True, True, False, False, False, True, False, False, False, True, False, False, False, False, True, False, True, False, False, False, True, False, False, False, True, False, False], [False, False, False, True, False, False, True, False, False, False, True, False, False, False, True, False, True, False, False, False, False, True, False, False, False, True, False, False, False, True, False], [False, True, False, False, False, False, False, True, False, False, False, True, False, False, False, False, False, True, False, False, False, False, True, False, False, False, True, False, False, False, True], [True, False, True, False, False, False, False, False, True, False, False, False, True, False, False, True, False, False, False, True, False, False, False, True, False, False, False, True, False, False, False], [False, False, False, False, True, True, False, False, False, True, False, False, False, True, False, False, False, False, True, False, True, False, False, False, True, False, False, False, True, False, False], [False, False, False, True, False, False, True, False, False, False, True, False, False, False, True, False, True, False, False, False, False, True, False, False, False, True, False, False, False, True, False], [False, False, False, False, True, True, False, False, False, True, False, False, False, True, False, False, False, False, True, False, True, False, False, False, True, False, False, False, True, False, False], [False, False, False, True, False, False, True, False, False, False, True, False, False, False, True, False, True, False, False, False, False, True, False, False, False, True, False, False, False, True, False], [False, True, False, False, False, False, False, True, False, False, False, True, False, False, False, False, False, True, False, False, False, False, True, False, False, False, True, False, False, False, True], [False, False, False, False, True, True, False, False, False, True, False, False, False, True, False, False, False, False, True, False, True, False, False, False, True, False, False, False, True, False, False], [False, False, False, True, False, False, True, False, False, False, True, False, False, False, True, False, True, False, False, False, False, True, False, False, False, True, False, False, False, True, False], [True, False, True, False, False, False, False, False, True, False, False, False, True, False, False, True, False, False, False, True, False, False, False, True, False, False, False, True, False, False, False], [False, True, False, False, False, False, False, True, False, False, False, True, False, False, False, False, False, True, False, False, False, False, True, False, False, False, True, False, False, False, True], [False, False, False, False, True, True, False, False, False, True, False, False, False, True, False, False, False, False, True, False, True, False, False, False, True, False, False, False, True, False, False], [False, False, False, True, False, False, True, False, False, False, True, False, False, False, True, False, True, False, False, False, False, True, False, False, False, True, False, False, False, True, False], [False, True, False, False, False, False, False, True, False, False, False, True, False, False, False, False, False, True, False, False, False, False, True, False, False, False, True, False, False, False, True], [True, False, True, False, False, False, False, False, True, False, False, False, True, False, False, True, False, False, False, True, False, False, False, True, False, False, False, True, False, False, False], [False, False, False, False, True, True, False, False, False, True, False, False, False, True, False, False, False, False, True, False, True, False, False, False, True, False, False, False, True, False, False], [False, False, False, True, False, False, True, False, False, False, True, False, False, False, True, False, True, False, False, False, False, True, False, False, False, True, False, False, False, True, False], [False, True, False, False, False, False, False, True, False, False, False, True, False, False, False, False, False, True, False, False, False, False, True, False, False, False, True, False, False, False, True], [True, False, True, False, False, False, False, False, True, False, False, False, True, False, False, True, False, False, False, True, False, False, False, True, False, False, False, True, False, False, False], [False, False, False, False, True, True, False, False, False, True, False, False, False, True, False, False, False, False, True, False, True, False, False, False, True, False, False, False, True, False, False], [False, False, False, True, False, False, True, False, False, False, True, False, False, False, True, False, True, False, False, False, False, True, False, False, False, True, False, False, False, True, False], [False, True, False, False, False, False, False, True, False, False, False, True, False, False, False, False, False, True, False, False, False, False, True, False, False, False, True, False, False, False, True], [True, False, True, False, False, False, False, False, True, False, False, False, True, False, False, True, False, False, False, True, False, False, False, True, False, False, False, True, False, False, False]]\n",
      " |TCTGAAGCTAGCTAGTGCATAGCTAGCTAGC\n",
      "A|    ■■   ■   ■    ■ ■   ■   ■  \n",
      "A|    ■■   ■   ■    ■ ■   ■   ■  \n",
      "G|   ■  ■   ■   ■ ■    ■   ■   ■ \n",
      "C| ■     ■   ■     ■    ■   ■   ■\n",
      "T|■ ■     ■   ■  ■   ■   ■   ■   \n",
      "T|■ ■     ■   ■  ■   ■   ■   ■   \n",
      "A|    ■■   ■   ■    ■ ■   ■   ■  \n",
      "G|   ■  ■   ■   ■ ■    ■   ■   ■ \n",
      "C| ■     ■   ■     ■    ■   ■   ■\n",
      "T|■ ■     ■   ■  ■   ■   ■   ■   \n",
      "A|    ■■   ■   ■    ■ ■   ■   ■  \n",
      "G|   ■  ■   ■   ■ ■    ■   ■   ■ \n",
      "A|    ■■   ■   ■    ■ ■   ■   ■  \n",
      "G|   ■  ■   ■   ■ ■    ■   ■   ■ \n",
      "C| ■     ■   ■     ■    ■   ■   ■\n",
      "A|    ■■   ■   ■    ■ ■   ■   ■  \n",
      "G|   ■  ■   ■   ■ ■    ■   ■   ■ \n",
      "T|■ ■     ■   ■  ■   ■   ■   ■   \n",
      "C| ■     ■   ■     ■    ■   ■   ■\n",
      "A|    ■■   ■   ■    ■ ■   ■   ■  \n",
      "G|   ■  ■   ■   ■ ■    ■   ■   ■ \n",
      "C| ■     ■   ■     ■    ■   ■   ■\n",
      "T|■ ■     ■   ■  ■   ■   ■   ■   \n",
      "A|    ■■   ■   ■    ■ ■   ■   ■  \n",
      "G|   ■  ■   ■   ■ ■    ■   ■   ■ \n",
      "C| ■     ■   ■     ■    ■   ■   ■\n",
      "T|■ ■     ■   ■  ■   ■   ■   ■   \n",
      "A|    ■■   ■   ■    ■ ■   ■   ■  \n",
      "G|   ■  ■   ■   ■ ■    ■   ■   ■ \n",
      "C| ■     ■   ■     ■    ■   ■   ■\n",
      "T|■ ■     ■   ■  ■   ■   ■   ■   \n",
      "\n"
     ]
    }
   ],
   "source": [
    "# Create Matrix\n",
    "def create_matrix_lc(seq_a, seq_b):\n",
    "  return [[a==b for b in seq_b]for a in seq_a]\n",
    "\n",
    "print(create_matrix_lc(SeqA,SeqB))\n",
    "\n",
    "# Write Map\n",
    "def write_map_lc(seq_a, seq_b):\n",
    "  matrix = create_matrix_lc(seq_a, seq_b)\n",
    "\n",
    "  res = \"\"\n",
    "  res += \" |\" + \"\".join([b for b in seq_b]) + \"\\n\"\n",
    "\n",
    "  for i in range(len(matrix)):\n",
    "    res += seq_a[i] + \"|\" +\"\".join([chr(0x25A0) if j == True else \" \" for j in matrix[i]]) + \"\\n\"\n",
    "\n",
    "  return res\n",
    "print(write_map_lc(SeqA, SeqB))"
   ]
  },
  {
   "cell_type": "code",
   "execution_count": 15,
   "metadata": {},
   "outputs": [
    {
     "name": "stdout",
     "output_type": "stream",
     "text": [
      " |TCTGAAGCTAGCTAGTGCATAGCTAGCTAGC\n",
      "A|    ■■   ■   ■    ■ ■   ■   ■  \n",
      "A|    ■■   ■   ■    ■ ■   ■   ■  \n",
      "G|   ■  ■   ■   ■ ■    ■   ■   ■ \n",
      "C| ■     ■   ■     ■    ■   ■   ■\n",
      "T|■ ■     ■   ■  ■   ■   ■   ■   \n",
      "T|■ ■     ■   ■  ■   ■   ■   ■   \n",
      "A|    ■■   ■   ■    ■ ■   ■   ■  \n",
      "G|   ■  ■   ■   ■ ■    ■   ■   ■ \n",
      "C| ■     ■   ■     ■    ■   ■   ■\n",
      "T|■ ■     ■   ■  ■   ■   ■   ■   \n",
      "A|    ■■   ■   ■    ■ ■   ■   ■  \n",
      "G|   ■  ■   ■   ■ ■    ■   ■   ■ \n",
      "A|    ■■   ■   ■    ■ ■   ■   ■  \n",
      "G|   ■  ■   ■   ■ ■    ■   ■   ■ \n",
      "C| ■     ■   ■     ■    ■   ■   ■\n",
      "A|    ■■   ■   ■    ■ ■   ■   ■  \n",
      "G|   ■  ■   ■   ■ ■    ■   ■   ■ \n",
      "T|■ ■     ■   ■  ■   ■   ■   ■   \n",
      "C| ■     ■   ■     ■    ■   ■   ■\n",
      "A|    ■■   ■   ■    ■ ■   ■   ■  \n",
      "G|   ■  ■   ■   ■ ■    ■   ■   ■ \n",
      "C| ■     ■   ■     ■    ■   ■   ■\n",
      "T|■ ■     ■   ■  ■   ■   ■   ■   \n",
      "A|    ■■   ■   ■    ■ ■   ■   ■  \n",
      "G|   ■  ■   ■   ■ ■    ■   ■   ■ \n",
      "C| ■     ■   ■     ■    ■   ■   ■\n",
      "T|■ ■     ■   ■  ■   ■   ■   ■   \n",
      "A|    ■■   ■   ■    ■ ■   ■   ■  \n",
      "G|   ■  ■   ■   ■ ■    ■   ■   ■ \n",
      "C| ■     ■   ■     ■    ■   ■   ■\n",
      "T|■ ■     ■   ■  ■   ■   ■   ■   \n",
      "\n",
      "[7, 7, 7, 8, 9, 9, 8, 7, 7, 9, 8, 7, 7, 9, 8, 7, 8, 7, 9, 7, 9, 8, 7, 7, 9, 8, 7, 7, 9, 8, 7]\n"
     ]
    }
   ],
   "source": [
    "def count_match(seq_a, seq_b):\n",
    "  res = [0 for i in range(len(seq_b))]\n",
    "  for i in range(len(seq_b)):\n",
    "    for j in seq_a:\n",
    "      if seq_b[i] == j:\n",
    "        res[i] += 1\n",
    "  return res\n",
    "print(write_map_lc(SeqA, SeqB))\n",
    "print(count_match(SeqA, SeqB))"
   ]
  }
 ],
 "metadata": {
  "kernelspec": {
   "display_name": "Python 3",
   "language": "python",
   "name": "python3"
  },
  "language_info": {
   "codemirror_mode": {
    "name": "ipython",
    "version": 3
   },
   "file_extension": ".py",
   "mimetype": "text/x-python",
   "name": "python",
   "nbconvert_exporter": "python",
   "pygments_lexer": "ipython3",
   "version": "3.11.3"
  },
  "orig_nbformat": 4
 },
 "nbformat": 4,
 "nbformat_minor": 2
}
