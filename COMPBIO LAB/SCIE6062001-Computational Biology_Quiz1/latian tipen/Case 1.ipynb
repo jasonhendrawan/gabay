{
 "cells": [
  {
   "cell_type": "code",
   "execution_count": 26,
   "metadata": {},
   "outputs": [],
   "source": [
    "# Import\n",
    "from Bio.Seq import Seq\n",
    "from Bio.SeqUtils import MeltingTemp as mt\n",
    "from Bio.SeqUtils import molecular_weight as mw\n",
    "from collections import Counter\n",
    "\n",
    "from matplotlib import pyplot as plt"
   ]
  },
  {
   "cell_type": "code",
   "execution_count": 3,
   "metadata": {},
   "outputs": [],
   "source": [
    "SeqA = Seq(\"AGCTTGCAGCGTCCGTTAGCTCGAGTCCAGGACGTTAGTCCTGCAGTC\")\n",
    "SeqB = Seq(\"CAGTAAGTTGCCGTTAGCGCGTAGTGCCAGTAAGCGGCTCGTTAGTGG\")"
   ]
  },
  {
   "cell_type": "code",
   "execution_count": 4,
   "metadata": {},
   "outputs": [
    {
     "data": {
      "text/plain": [
       "48"
      ]
     },
     "execution_count": 4,
     "metadata": {},
     "output_type": "execute_result"
    }
   ],
   "source": [
    "# Find the length of Both Sequences\n",
    "len(SeqA)\n",
    "len(SeqB)"
   ]
  },
  {
   "cell_type": "code",
   "execution_count": 5,
   "metadata": {},
   "outputs": [
    {
     "name": "stdout",
     "output_type": "stream",
     "text": [
      "1\n"
     ]
    }
   ],
   "source": [
    "# Determine the number of times the codon (CGC) appears in both sequences.\n",
    "x = 0\n",
    "y = 3\n",
    "flag = 0\n",
    "for i in SeqB:\n",
    "    if(y==len(SeqB)):\n",
    "        break\n",
    "    if(SeqB[x:y] == Seq(\"CGC\")):\n",
    "        flag += 1\n",
    "    x +=1\n",
    "    y +=1\n",
    "    \n",
    "print(flag)"
   ]
  },
  {
   "cell_type": "code",
   "execution_count": 6,
   "metadata": {},
   "outputs": [
    {
     "name": "stdout",
     "output_type": "stream",
     "text": [
      "0\n"
     ]
    }
   ],
   "source": [
    "# Determine the number of times the codon (CGC) appears in both sequences.\n",
    "x = 0\n",
    "y = 3\n",
    "flag = 0\n",
    "\n",
    "for i in SeqA:\n",
    "    if(y == len(SeqA)):\n",
    "        break\n",
    "    if(SeqA[x:y]==Seq(\"CGC\")):\n",
    "        flag +=1\n",
    "    x += 1\n",
    "    y += 1\n",
    "\n",
    "print(flag)"
   ]
  },
  {
   "cell_type": "code",
   "execution_count": 10,
   "metadata": {},
   "outputs": [
    {
     "name": "stdout",
     "output_type": "stream",
     "text": [
      "43\n",
      "-1\n"
     ]
    }
   ],
   "source": [
    "# Locate the first occurrence index position of the sub-sequence (CAGTC) in both sequences.\n",
    "indexing_a = SeqA.index(\"CAGTC\")\n",
    "print(indexing_a)\n",
    "\n",
    "indexing_b = SeqB.find(\"CAGTC\")\n",
    "print(indexing_b)"
   ]
  },
  {
   "cell_type": "code",
   "execution_count": 22,
   "metadata": {},
   "outputs": [
    {
     "name": "stdout",
     "output_type": "stream",
     "text": [
      "AGCTTGCAGCGTCCGTCGTTAGTGG\n"
     ]
    },
    {
     "data": {
      "text/plain": [
       "Seq('GGTGATTGCTGCCTGCGACGTTCGA')"
      ]
     },
     "execution_count": 22,
     "metadata": {},
     "output_type": "execute_result"
    }
   ],
   "source": [
    "# Combine the first 15 nucleotides from sequence A and the last 10 nucleotides from sequence B to create a new DNA sequence called sequence C\n",
    "SeqC = SeqA[:15] + SeqB[-10:]\n",
    "\n",
    "# Reverse the sequence of sequence C.\n",
    "rev_seqc = SeqC[::-1]\n",
    "rev_seqc\n",
    "\n"
   ]
  },
  {
   "cell_type": "code",
   "execution_count": 27,
   "metadata": {},
   "outputs": [
    {
     "data": {
      "text/plain": [
       "<BarContainer object of 4 artists>"
      ]
     },
     "execution_count": 27,
     "metadata": {},
     "output_type": "execute_result"
    },
    {
     "data": {
      "image/png": "[encoded data removed]",
      "text/plain": [
       "<Figure size 640x480 with 1 Axes>"
      ]
     },
     "metadata": {},
     "output_type": "display_data"
    }
   ],
   "source": [
    "# Plot the nucleotide base (A, C, G, T) frequency of each of the sequence A, sequence B, and sequence C using the Matplotlib library.\n",
    "nucleotide_freq = Counter(SeqC)\n",
    "\n",
    "plt.bar(nucleotide_freq.keys(), nucleotide_freq.values())"
   ]
  }
 ],
 "metadata": {
  "kernelspec": {
   "display_name": "Python 3",
   "language": "python",
   "name": "python3"
  },
  "language_info": {
   "codemirror_mode": {
    "name": "ipython",
    "version": 3
   },
   "file_extension": ".py",
   "mimetype": "text/x-python",
   "name": "python",
   "nbconvert_exporter": "python",
   "pygments_lexer": "ipython3",
   "version": "3.11.3"
  },
  "orig_nbformat": 4
 },
 "nbformat": 4,
 "nbformat_minor": 2
}
