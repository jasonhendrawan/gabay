{
 "cells": [
  {
   "cell_type": "code",
   "execution_count": 1,
   "metadata": {},
   "outputs": [
    {
     "name": "stdout",
     "output_type": "stream",
     "text": [
      "Requirement already satisfied: Levenshtein in c:\\python39\\lib\\site-packages (0.21.0)\n",
      "Requirement already satisfied: rapidfuzz<4.0.0,>=2.3.0 in c:\\python39\\lib\\site-packages (from Levenshtein) (3.1.1)\n",
      "Note: you may need to restart the kernel to use updated packages.\n"
     ]
    },
    {
     "name": "stderr",
     "output_type": "stream",
     "text": [
      "WARNING: You are using pip version 21.1.1; however, version 23.1.2 is available.\n",
      "You should consider upgrading via the 'c:\\Python39\\python.exe -m pip install --upgrade pip' command.\n"
     ]
    },
    {
     "name": "stdout",
     "output_type": "stream",
     "text": [
      "Requirement already satisfied: Biopython in c:\\python39\\lib\\site-packages (1.81)\n",
      "Requirement already satisfied: numpy in c:\\python39\\lib\\site-packages (from Biopython) (1.24.3)\n",
      "Note: you may need to restart the kernel to use updated packages.\n"
     ]
    },
    {
     "name": "stderr",
     "output_type": "stream",
     "text": [
      "WARNING: You are using pip version 21.1.1; however, version 23.1.2 is available.\n",
      "You should consider upgrading via the 'c:\\Python39\\python.exe -m pip install --upgrade pip' command.\n"
     ]
    },
    {
     "name": "stdout",
     "output_type": "stream",
     "text": [
      "Requirement already satisfied: matplotlib in c:\\python39\\lib\\site-packages (3.7.1)\n",
      "Requirement already satisfied: kiwisolver>=1.0.1 in c:\\python39\\lib\\site-packages (from matplotlib) (1.4.4)\n",
      "Requirement already satisfied: python-dateutil>=2.7 in c:\\python39\\lib\\site-packages (from matplotlib) (2.8.2)\n",
      "Requirement already satisfied: numpy>=1.20 in c:\\python39\\lib\\site-packages (from matplotlib) (1.24.3)\n",
      "Requirement already satisfied: pyparsing>=2.3.1 in c:\\python39\\lib\\site-packages (from matplotlib) (3.0.9)\n",
      "Requirement already satisfied: importlib-resources>=3.2.0 in c:\\python39\\lib\\site-packages (from matplotlib) (5.12.0)\n",
      "Requirement already satisfied: cycler>=0.10 in c:\\python39\\lib\\site-packages (from matplotlib) (0.11.0)\n",
      "Requirement already satisfied: pillow>=6.2.0 in c:\\python39\\lib\\site-packages (from matplotlib) (9.5.0)\n",
      "Requirement already satisfied: fonttools>=4.22.0 in c:\\python39\\lib\\site-packages (from matplotlib) (4.39.4)\n",
      "Requirement already satisfied: contourpy>=1.0.1 in c:\\python39\\lib\\site-packages (from matplotlib) (1.0.7)\n",
      "Requirement already satisfied: packaging>=20.0 in c:\\python39\\lib\\site-packages (from matplotlib) (23.1)\n",
      "Requirement already satisfied: zipp>=3.1.0 in c:\\python39\\lib\\site-packages (from importlib-resources>=3.2.0->matplotlib) (3.15.0)\n",
      "Requirement already satisfied: six>=1.5 in c:\\python39\\lib\\site-packages (from python-dateutil>=2.7->matplotlib) (1.16.0)\n",
      "Note: you may need to restart the kernel to use updated packages.\n"
     ]
    },
    {
     "name": "stderr",
     "output_type": "stream",
     "text": [
      "WARNING: You are using pip version 21.1.1; however, version 23.1.2 is available.\n",
      "You should consider upgrading via the 'c:\\Python39\\python.exe -m pip install --upgrade pip' command.\n"
     ]
    }
   ],
   "source": [
    "%pip install Levenshtein\n",
    "%pip install Biopython\n",
    "%pip install matplotlib"
   ]
  },
  {
   "cell_type": "code",
   "execution_count": 20,
   "metadata": {},
   "outputs": [],
   "source": [
    "from Bio import pairwise2 as pw2, SeqIO\n",
    "from Bio.Seq import Seq\n",
    "from Bio.SeqUtils import MeltingTemp as mt, molecular_weight as mw, GC\n",
    "from collections import Counter\n",
    "from matplotlib import pyplot as plt\n",
    "from Levenshtein import distance\n",
    "from Bio.pairwise2 import format_alignment"
   ]
  },
  {
   "cell_type": "code",
   "execution_count": 8,
   "metadata": {},
   "outputs": [],
   "source": [
    "load1 = SeqIO.read(\"D16S318.fasta\", \"fasta\")\n",
    "load2 = SeqIO.read(\"MG821630.fasta\", \"fasta\")\n",
    "\n",
    "seqa = load1.seq\n",
    "seqb = load2.seq"
   ]
  },
  {
   "cell_type": "code",
   "execution_count": 10,
   "metadata": {},
   "outputs": [
    {
     "name": "stdout",
     "output_type": "stream",
     "text": [
      "2\n",
      "13\n"
     ]
    }
   ],
   "source": [
    "print(seqa.find(\"GTG\"))\n",
    "print(seqb.find(\"GTG\"))"
   ]
  },
  {
   "cell_type": "code",
   "execution_count": 14,
   "metadata": {},
   "outputs": [
    {
     "name": "stdout",
     "output_type": "stream",
     "text": [
      "GTACGCTGTGGTGTC\n"
     ]
    }
   ],
   "source": [
    "first = seqa[:10]\n",
    "last = seqb[-5:]\n",
    "\n",
    "seqc = (first + last)[::-1]\n",
    "\n",
    "print(seqc)"
   ]
  },
  {
   "cell_type": "code",
   "execution_count": 17,
   "metadata": {},
   "outputs": [
    {
     "name": "stdout",
     "output_type": "stream",
     "text": [
      "414.0\n",
      "1332.0\n",
      "48.0\n"
     ]
    }
   ],
   "source": [
    "print(mt.Tm_Wallace(seqa))\n",
    "print(mt.Tm_Wallace(seqb))\n",
    "print(mt.Tm_Wallace(seqc))"
   ]
  },
  {
   "cell_type": "code",
   "execution_count": 18,
   "metadata": {},
   "outputs": [
    {
     "name": "stdout",
     "output_type": "stream",
     "text": [
      "43.75\n",
      "48.0\n",
      "60.0\n",
      "56.25\n",
      "52.0\n",
      "40.0\n"
     ]
    },
    {
     "name": "stderr",
     "output_type": "stream",
     "text": [
      "c:\\Python39\\lib\\site-packages\\Bio\\SeqUtils\\__init__.py:144: BiopythonDeprecationWarning: GC is deprecated; please use gc_fraction instead.\n",
      "  warnings.warn(\n"
     ]
    }
   ],
   "source": [
    "print(GC(seqa))\n",
    "print(GC(seqb))\n",
    "print(GC(seqc))\n",
    "\n",
    "print(100 - GC(seqa))\n",
    "print(100 - GC(seqb))\n",
    "print(100 - GC(seqc))"
   ]
  },
  {
   "cell_type": "code",
   "execution_count": 19,
   "metadata": {},
   "outputs": [
    {
     "name": "stdout",
     "output_type": "stream",
     "text": [
      "45133.6662\n",
      "138936.53459999975\n",
      "4694.9686\n"
     ]
    }
   ],
   "source": [
    "print(mw(seqa))\n",
    "print(mw(seqb))\n",
    "print(mw(seqc))"
   ]
  },
  {
   "cell_type": "code",
   "execution_count": 22,
   "metadata": {},
   "outputs": [
    {
     "data": {
      "image/png": "[encoded data removed]",
      "text/plain": [
       "<Figure size 432x288 with 1 Axes>"
      ]
     },
     "metadata": {
      "needs_background": "light"
     },
     "output_type": "display_data"
    },
    {
     "data": {
      "image/png": "[encoded data removed]",
      "text/plain": [
       "<Figure size 432x288 with 1 Axes>"
      ]
     },
     "metadata": {
      "needs_background": "light"
     },
     "output_type": "display_data"
    },
    {
     "data": {
      "image/png": "[encoded data removed]",
      "text/plain": [
       "<Figure size 432x288 with 1 Axes>"
      ]
     },
     "metadata": {
      "needs_background": "light"
     },
     "output_type": "display_data"
    }
   ],
   "source": [
    "ca = Counter(seqa)\n",
    "cb = Counter(seqb)\n",
    "cc = Counter(seqc)\n",
    "\n",
    "plt.bar(ca.keys(), ca.values())\n",
    "plt.show()\n",
    "plt.bar(cb.keys(), cb.values())\n",
    "plt.show()\n",
    "plt.bar(cc.keys(), cc.values())\n",
    "plt.show()"
   ]
  },
  {
   "cell_type": "code",
   "execution_count": 35,
   "metadata": {},
   "outputs": [
    {
     "name": "stdout",
     "output_type": "stream",
     "text": [
      "CUGUGGUGUCACAUCAGGAAGUACAUAAUGAUUUGGUGAGGUGUGUGUGUGUGUGUGUGUGUGUGUGUGUGUGUGUGUGUGUGUAUGUGGUGUUUAUGUAUAAGAUUGGUCAAUGGGUUCAGUCCAAUCGGUUCAUGUGUAGUC\n",
      "ACUUGCUUUGGCGGUGGGCCCAGCCUGCCGCCAGAGGUCUAAACUUACAACCAAUUUUUUAUCAACUUGUCACACCAGAUUAUUACUAAUAGUCCAAACUUUCAACAACGGAUCUCUUGGUUCUCGCAUCGAUGAAGAACGCAGCGAAAUGCGAUACGUAAUAUGAAUUGCAGAUAUUCGUGAAUCAUCGAAUCUUUGAACGCACAUUGCGCCCUCUGGUAUUCCGGAGGGCAUGCCUGUUUGAGCGUCGUUUCUCCCUCAAACCGCUGGGUUUGGUGUUGAGCAAUACGACUUGGGUUUGCUUGAAAGACGGGAGUGGUAAGGCGGGAUCGCUUUGGCAAUGGCUUAGGGCCAACCGAAAACAUUGCUUGCCGCGGUAACGUCUACCACGUAUAUCUUCAAACUUUGACCUCGAAUCAUGUAGGACUACCCGCUGGACUUUACCGCAUG\n",
      "GUACGCUGUGGUGUC\n",
      "LWCHIRKYIMIW*GVCVCVCVCVCVCVCMWCLCIRLVNGFSPIGSCVV\n",
      "TCFGGGPSLPPEV*TYNQFFINLSHQIITNSPNFQQRISWFSHR*RTQRNAIRNMNCRYS*IIESLNAHCALWYSGGHACLSVVSPSNRWVWC*AIRLGFA*KTGVVRRDRFGNGLGPTENIACRGNVYHVYLQTLTSNHVGLPAGLYRM\n",
      "VRCGV\n"
     ]
    }
   ],
   "source": [
    "print(seqa.transcribe())\n",
    "print(seqb.transcribe())\n",
    "print(seqc.transcribe())\n",
    "\n",
    "print(seqa.translate())\n",
    "print(seqb.translate())\n",
    "print(seqc.translate())"
   ]
  },
  {
   "cell_type": "code",
   "execution_count": 40,
   "metadata": {},
   "outputs": [
    {
     "name": "stdout",
     "output_type": "stream",
     "text": [
      "18.0\n",
      "17.0\n"
     ]
    }
   ],
   "source": [
    "all1 = \"CGCTACTAGCATGCGCAT\"\n",
    "all2 = \"TAGCAGCTACGTGTGAC\"\n",
    "\n",
    "scr1 = pw2.align.localxx(seqa, all1, score_only = True)\n",
    "print(scr1)\n",
    "\n",
    "scr2 = pw2.align.localxx(seqb, all2, score_only = True)\n",
    "print(scr2)"
   ]
  },
  {
   "cell_type": "code",
   "execution_count": 41,
   "metadata": {},
   "outputs": [
    {
     "name": "stdout",
     "output_type": "stream",
     "text": [
      "314\n"
     ]
    }
   ],
   "source": [
    "print(distance(seqa, seqb))"
   ]
  }
 ],
 "metadata": {
  "kernelspec": {
   "display_name": "Python 3",
   "language": "python",
   "name": "python3"
  },
  "language_info": {
   "codemirror_mode": {
    "name": "ipython",
    "version": 3
   },
   "file_extension": ".py",
   "mimetype": "text/x-python",
   "name": "python",
   "nbconvert_exporter": "python",
   "pygments_lexer": "ipython3",
   "version": "3.9.5"
  },
  "orig_nbformat": 4
 },
 "nbformat": 4,
 "nbformat_minor": 2
}
