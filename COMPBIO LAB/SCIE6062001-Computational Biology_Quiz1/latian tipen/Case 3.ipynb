{
 "cells": [
  {
   "cell_type": "code",
   "execution_count": 21,
   "metadata": {},
   "outputs": [],
   "source": [
    "from Bio.Seq import Seq\n",
    "from Bio.SeqUtils import seq3"
   ]
  },
  {
   "cell_type": "code",
   "execution_count": 3,
   "metadata": {},
   "outputs": [],
   "source": [
    "SeqA = Seq(\"ATGCGTTTATGACGTATCTGAAGTCTACTAGGGTGATCTGACTAA\")\n",
    "SeqB = Seq(\"GTGTTAGTGCGCTAGTGCTGACTAGGTACAGTAGCTAGTTACTAG\")"
   ]
  },
  {
   "cell_type": "code",
   "execution_count": 5,
   "metadata": {},
   "outputs": [],
   "source": [
    "# •\tTranscribe the DNA sequence A and sequence B into mRNA.\n",
    "a_rna = SeqA.transcribe()\n",
    "b_rna = SeqB.transcribe()"
   ]
  },
  {
   "cell_type": "code",
   "execution_count": 15,
   "metadata": {},
   "outputs": [],
   "source": [
    "#•\tCombine 24 starting nucleotides of mRNA sequence A and 21 ending nucleotides of mRNA sequence B and set it as mRNA sequence C.\n",
    "c_rna = a_rna[:24] + b_rna[-21:]"
   ]
  },
  {
   "cell_type": "code",
   "execution_count": 23,
   "metadata": {},
   "outputs": [
    {
     "name": "stdout",
     "output_type": "stream",
     "text": [
      "MRL|RI|SLLG|SD| VLVR*C*LGTVASY* MRL*RI*SGTVASY*\n"
     ]
    },
    {
     "data": {
      "text/plain": [
       "'MetArgLeuXaaArgIleXaaSerLeuLeuGlyXaaSerAspXaa'"
      ]
     },
     "execution_count": 23,
     "metadata": {},
     "output_type": "execute_result"
    }
   ],
   "source": [
    "# •\tTranslate the mRNA sequence A, sequence B, and sequence C into amino acids sequences.\n",
    "protein_a = a_rna.translate(stop_symbol= \"|\")\n",
    "protein_b = b_rna.translate()\n",
    "protein_c = c_rna.translate()\n",
    "print(protein_a, protein_b, protein_c)\n",
    "\n",
    "seq3(protein_a)\n"
   ]
  },
  {
   "cell_type": "code",
   "execution_count": 24,
   "metadata": {},
   "outputs": [],
   "source": [
    "# •\tTranscribe back the mRNA sequence C into DNA.\n",
    "dna_c = c_rna.back_transcribe()"
   ]
  },
  {
   "cell_type": "code",
   "execution_count": 26,
   "metadata": {},
   "outputs": [
    {
     "data": {
      "text/plain": [
       "Seq('CACAATCACGCGATCACGACTGATCCATGTCATCGATCAATGATC')"
      ]
     },
     "execution_count": 26,
     "metadata": {},
     "output_type": "execute_result"
    }
   ],
   "source": [
    "# •\tCalculate the complementary sequences of DNA sequence A, sequence B, and sequence C\n",
    "dna_c.complement()\n",
    "SeqA.complement()\n",
    "SeqB.complement()"
   ]
  }
 ],
 "metadata": {
  "kernelspec": {
   "display_name": "Python 3",
   "language": "python",
   "name": "python3"
  },
  "language_info": {
   "codemirror_mode": {
    "name": "ipython",
    "version": 3
   },
   "file_extension": ".py",
   "mimetype": "text/x-python",
   "name": "python",
   "nbconvert_exporter": "python",
   "pygments_lexer": "ipython3",
   "version": "3.11.3"
  },
  "orig_nbformat": 4
 },
 "nbformat": 4,
 "nbformat_minor": 2
}
